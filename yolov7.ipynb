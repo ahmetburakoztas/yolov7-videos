{
  "nbformat": 4,
  "nbformat_minor": 0,
  "metadata": {
    "colab": {
      "provenance": [],
      "mount_file_id": "1Ap7qrU4Ea-V-DfMiv1deOON-W4gBFUXf",
      "authorship_tag": "ABX9TyOHDHTNq1mG0ppp+rMBWzf0",
      "include_colab_link": true
    },
    "kernelspec": {
      "name": "python3",
      "display_name": "Python 3"
    },
    "language_info": {
      "name": "python"
    },
    "accelerator": "GPU",
    "gpuClass": "standard"
  },
  "cells": [
    {
      "cell_type": "markdown",
      "metadata": {
        "id": "view-in-github",
        "colab_type": "text"
      },
      "source": [
        "<a href=\"https://colab.research.google.com/github/ahmetburakoztas/yolov7-videos/blob/master/yolov7.ipynb\" target=\"_parent\"><img src=\"https://colab.research.google.com/assets/colab-badge.svg\" alt=\"Open In Colab\"/></a>"
      ]
    },
    {
      "cell_type": "code",
      "source": [
        "!git clone https://github.com/WongKinYiu/yolov7.git\n",
        "%cd yolov7\n",
        "!pip install -r requirements.txt\n"
      ],
      "metadata": {
        "id": "D_gg0VJVDxAQ"
      },
      "execution_count": null,
      "outputs": []
    },
    {
      "cell_type": "code",
      "source": [
        "!wget https://github.com/ahmetburakoztas/yolov7-videos/raw/master/20221229_001324_HoloLens.mp4"
      ],
      "metadata": {
        "colab": {
          "base_uri": "https://localhost:8080/"
        },
        "id": "w9tjmvZQ-ElC",
        "outputId": "d2ee7b4e-30c3-43c8-e0f0-60e97d0ebf41"
      },
      "execution_count": 8,
      "outputs": [
        {
          "output_type": "stream",
          "name": "stdout",
          "text": [
            "/content/yolov7-videos\n",
            "--2022-12-30 07:41:24--  https://github.com/ahmetburakoztas/yolov7-videos/raw/master/20221229_001324_HoloLens.mp4\n",
            "Resolving github.com (github.com)... 20.205.243.166\n",
            "Connecting to github.com (github.com)|20.205.243.166|:443... connected.\n",
            "HTTP request sent, awaiting response... 302 Found\n",
            "Location: https://media.githubusercontent.com/media/ahmetburakoztas/yolov7-videos/master/20221229_001324_HoloLens.mp4 [following]\n",
            "--2022-12-30 07:41:24--  https://media.githubusercontent.com/media/ahmetburakoztas/yolov7-videos/master/20221229_001324_HoloLens.mp4\n",
            "Resolving media.githubusercontent.com (media.githubusercontent.com)... 185.199.108.133, 185.199.109.133, 185.199.110.133, ...\n",
            "Connecting to media.githubusercontent.com (media.githubusercontent.com)|185.199.108.133|:443... connected.\n",
            "HTTP request sent, awaiting response... 200 OK\n",
            "Length: 44761363 (43M) [application/octet-stream]\n",
            "Saving to: ‘20221229_001324_HoloLens.mp4.1’\n",
            "\n",
            "20221229_001324_Hol 100%[===================>]  42.69M  --.-KB/s    in 0.1s    \n",
            "\n",
            "2022-12-30 07:41:24 (413 MB/s) - ‘20221229_001324_HoloLens.mp4.1’ saved [44761363/44761363]\n",
            "\n",
            "/content/yolov7\n"
          ]
        }
      ]
    },
    {
      "cell_type": "code",
      "source": [
        "!python detect.py \\\n",
        "--weights yolov7.pt \\\n",
        "--source 20221229_001324_HoloLens.mp4 \\\n",
        "--classes 0 \\\n",
        "--img-size 640 \\\n",
        "--conf-thres 0.25 \\\n",
        "--agnostic-nms "
      ],
      "metadata": {
        "id": "Rez2Su1n7tMD"
      },
      "execution_count": null,
      "outputs": []
    },
    {
      "cell_type": "code",
      "source": [
        "!ls -la ../yolov7-videos"
      ],
      "metadata": {
        "id": "VGe4rrky9TIW"
      },
      "execution_count": null,
      "outputs": []
    },
    {
      "cell_type": "code",
      "source": [],
      "metadata": {
        "id": "oFbCAhiz9VOd"
      },
      "execution_count": null,
      "outputs": []
    }
  ]
}